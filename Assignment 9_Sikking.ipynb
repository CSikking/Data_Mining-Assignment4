{
 "cells": [
  {
   "cell_type": "markdown",
   "id": "4367bc33",
   "metadata": {},
   "source": [
    "Ciara Sikking \n",
    "Data Mining - Apr. 23, 2024"
   ]
  },
  {
   "cell_type": "markdown",
   "id": "6a26fccc",
   "metadata": {},
   "source": [
    "Feature Extraction"
   ]
  },
  {
   "cell_type": "code",
   "execution_count": 93,
   "id": "fc5797de",
   "metadata": {},
   "outputs": [],
   "source": [
    "import glob\n",
    "import os\n",
    "import matplotlib.pyplot as plt\n",
    "import numpy as np\n",
    "from skimage import filters\n",
    "import skimage\n",
    "\n",
    "# Import dog images \n",
    "dog_images = glob.glob('/Users/ciarasikking/Data_Mining-Assignment4/Cropped/*')\n",
    "\n",
    "\n",
    "# Convert images to edge histograms \n",
    "def im2gray(img):\n",
    "    gray = np.dot(img[...,0:3],[0.299,0.587,0.114])\n",
    "    return gray \n",
    "\n",
    "def angle(dx, dy):\n",
    "    return np.mod(np.arctan2(dy, dx), np.pi)\n",
    "\n",
    "directories = ['/Users/ciarasikking/Data_Mining_Assignment2/Cropped/n02086910-papillon',\n",
    "              '/Users/ciarasikking/Data_Mining_Assignment2/Cropped/n02101556-clumber',\n",
    "              '/Users/ciarasikking/Data_Mining_Assignment2/Cropped/n02113712-miniature_poodle',\n",
    "              '/Users/ciarasikking/Data_Mining_Assignment2/Cropped/n02113978-Mexican_hairless']\n",
    "\n",
    "i = 0\n",
    "image_list = []\n",
    "gray_image_list = []\n",
    "edge_hist_list = []\n",
    "\n",
    "# Separate classes \n",
    "dir_1 = directories[0]\n",
    "dir_2 = directories[1]\n",
    "dir_3 = directories[2]\n",
    "dir_4 = directories[3]\n",
    "class_1 = os.listdir(dir_1)\n",
    "class_2 = os.listdir(dir_2)\n",
    "class_3 = os.listdir(dir_3)\n",
    "class_4 = os.listdir(dir_4)\n",
    "\n",
    "edge_hist_pap = []\n",
    "edge_hist_clum = []\n",
    "edge_hist_minp = []\n",
    "edge_hist_mexh = []\n",
    "\n",
    "# Convert each image in each class to edge histograms \n",
    "for im in class_1:\n",
    "    read_image = plt.imread(dir_1 + '/' + im)\n",
    "    gray_image = im2gray(read_image)\n",
    "    \n",
    "    angle_sobel = angle(filters.sobel_h(gray_image),filters.sobel_v(gray_image))\n",
    "    \n",
    "    hist, bins = skimage.exposure.histogram(angle_sobel, nbins=36, normalize=False)\n",
    "    edge_hist_pap.append(hist)\n",
    "    \n",
    "for im2 in class_2:\n",
    "    read_image2 = plt.imread(dir_2 + '/' + im2)\n",
    "    gray_image2 = im2gray(read_image2)\n",
    "    \n",
    "    angle_sobel2 = angle(filters.sobel_h(gray_image2),filters.sobel_v(gray_image2))\n",
    "    \n",
    "    hist2, bins2 = skimage.exposure.histogram(angle_sobel2, nbins=36, normalize=False)\n",
    "    edge_hist_clum.append(hist2)\n",
    "    \n",
    "for im3 in class_3:\n",
    "    read_image3 = plt.imread(dir_3 + '/' + im3)\n",
    "    gray_image3 = im2gray(read_image3)\n",
    "    \n",
    "    angle_sobel3 = angle(filters.sobel_h(gray_image3),filters.sobel_v(gray_image3))\n",
    "    \n",
    "    hist3, bins3 = skimage.exposure.histogram(angle_sobel3, nbins=36, normalize=False)\n",
    "    edge_hist_minp.append(hist3)\n",
    "    \n",
    "for im4 in class_4:\n",
    "    read_image4 = plt.imread(dir_4 + '/' + im4)\n",
    "    gray_image4 = im2gray(read_image4)\n",
    "    \n",
    "    angle_sobel4 = angle(filters.sobel_h(gray_image4),filters.sobel_v(gray_image4))\n",
    "    \n",
    "    hist4, bins4 = skimage.exposure.histogram(angle_sobel4, nbins=36, normalize=False)\n",
    "    edge_hist_mexh.append(hist4)\n",
    "    \n",
    "# Normalize the edge histograms \n",
    "normalized_edge_hist_pap = []\n",
    "normalized_edge_hist_clum = []\n",
    "normalized_edge_hist_minp = []\n",
    "normalized_edge_hist_mexh = []\n",
    "\n",
    "for hist in edge_hist_pap:\n",
    "    total_count = np.sum(hist)\n",
    "    normalized_hist = hist / total_count\n",
    "    normalized_edge_hist_pap.append(normalized_hist)\n",
    "    \n",
    "for hist in edge_hist_clum:\n",
    "    total_count = np.sum(hist)\n",
    "    normalized_hist = hist / total_count\n",
    "    normalized_edge_hist_clum.append(normalized_hist)\n",
    "    \n",
    "for hist in edge_hist_minp:\n",
    "    total_count = np.sum(hist)\n",
    "    normalized_hist = hist / total_count\n",
    "    normalized_edge_hist_minp.append(normalized_hist)\n",
    "\n",
    "for hist in edge_hist_mexh:\n",
    "    total_count = np.sum(hist)\n",
    "    normalized_hist = hist / total_count\n",
    "    normalized_edge_hist_mexh.append(normalized_hist)\n",
    "    \n",
    "labels_pap = [0] * len(edge_hist_pap)\n",
    "labels_clum = [1] * len(edge_hist_clum)\n",
    "labels_minp = [2] * len(edge_hist_minp)\n",
    "labels_mexh = [3] * len(edge_hist_mexh)\n",
    "\n",
    "true_labels = labels_pap + labels_clum + labels_minp + labels_mexh"
   ]
  },
  {
   "cell_type": "code",
   "execution_count": 94,
   "id": "8e3de9de",
   "metadata": {},
   "outputs": [],
   "source": [
    "all_edge = edge_hist_pap + edge_hist_clum + edge_hist_minp + edge_hist_mexh\n",
    "all_norm_edge = normalized_edge_hist_pap + normalized_edge_hist_clum + normalized_edge_hist_minp + normalized_edge_hist_mexh"
   ]
  },
  {
   "cell_type": "markdown",
   "id": "11c62e13",
   "metadata": {},
   "source": [
    "Dimension Reduction"
   ]
  },
  {
   "cell_type": "code",
   "execution_count": 95,
   "id": "d7a6ccf0",
   "metadata": {},
   "outputs": [
    {
     "data": {
      "image/png": "[encoded data removed]",
      "text/plain": [
       "<Figure size 432x288 with 1 Axes>"
      ]
     },
     "metadata": {
      "needs_background": "light"
     },
     "output_type": "display_data"
    }
   ],
   "source": [
    "from sklearn.decomposition import PCA\n",
    "pca = PCA(n_components=2)\n",
    "pca.fit(all_norm_edge)\n",
    "\n",
    "all_norm_edge_pca = pca.transform(all_norm_edge)\n",
    "\n",
    "plt.scatter(all_norm_edge_pca[:, 0], all_norm_edge_pca[:, 1], color='blue')\n",
    "plt.xlabel('Principal Component 1')\n",
    "plt.ylabel('Principal Component 2')\n",
    "plt.title('PCA Transformed Data')\n",
    "plt.show()"
   ]
  },
  {
   "cell_type": "markdown",
   "id": "f81d4456",
   "metadata": {},
   "source": [
    "Clustering Algorithm"
   ]
  },
  {
   "cell_type": "markdown",
   "id": "b71345ec",
   "metadata": {},
   "source": [
    "Kmeans with init = Random"
   ]
  },
  {
   "cell_type": "code",
   "execution_count": 96,
   "id": "a1c37924",
   "metadata": {},
   "outputs": [
    {
     "name": "stdout",
     "output_type": "stream",
     "text": [
      "[2 2 1 1 2 0 1 1 2 2 0 0 0 2 2 2 0 2 1 2 0 2 2 2 2 0 2 1 1 1 2 1 2 2 0 1 1\n",
      " 2 2 1 2 2 0 0 1 0 0 1 1 2 0 2 3 1 0 2 1 1 0 1 0 0 0 0 2 2 2 1 1 1 2 1 2 2\n",
      " 2 2 2 2 1 1 2 2 2 2 1 2 0 2 1 1 0 1 1 2 2 0 0 0 2 1 0 2 1 2 2 1 1 0 1 0 1\n",
      " 1 2 1 0 0 1 1 2 0 0 1 2 2 0 1 1 2 2 2 0 2 2 1 0 1 1 1 1 0 2 2 1 1 1 2 0 2\n",
      " 1 0 2 0 1 2 2 2 0 2 1 0 2 1 0 1 2 2 1 0 2 2 2 0 0 2 2 1 1 2 3 2 1 0 2 0 2\n",
      " 2 0 1 1 2 0 2 2 1 2 1 2 1 0 2 2 3 3 2 2 2 0 2 0 2 1 2 2 1 1 1 2 1 0 1 2 0\n",
      " 0 2 1 0 2 0 1 2 1 1 2 2 1 2 0 1 1 2 2 0 2 1 1 1 2 1 2 2 2 0 1 1 1 1 1 1 0\n",
      " 1 1 2 2 1 2 1 2 2 1 1 2 1 0 0 2 1 1 0 2 2 2 1 2 0 1 1 2 2 1 1 1 2 1 2 0 3\n",
      " 1 1 2 2 0 1 0 2 2 1 0 1 2 0 1 2 2 2 0 2 1 1 2 2 1 1 1 2 1 1 2 1 1 2 1 1 1\n",
      " 0 1 2 2 2 2 2 1 1 1 2 0 1 2 0 1 2 2 1 2 1 1 2 2 1 0 1 1 1 3 1 2 2 2 1 0 1\n",
      " 2 2 1 1 2 1 0 0 2 2 0 2 1 2 0 2 2 2 2 2 1 1 1 3 0 2 0 0 2 0 2 2 0 0 2 2 0\n",
      " 0 0 0 2 0 0 0 3 0 0 0 2 2 0 2 1 2 0 1 0 0 3 2 2 2 2 0 2 1 0 1 0 2 1 2 2 2\n",
      " 0 2 0 3 2 1 2 1 0 2 0 0 2 2 3 0 1 3 0 1 2 1 1 2 0 0 2 0 2 2 0 0 1 1 0 2 1\n",
      " 2 0 1 0 2 0 2 1 2 2 3 2 2 2 2 3 1 2 0 3 2 2 1 1 0 2 2 2 0 1 0 1 2 2 2 2 1\n",
      " 1 3 2 0 0 2 1 2 2 0 0 1 2 2 3 1 0 0 2 3 2 0 1 0 2 2 0 0 0 0 0 2 0 0 0 0 0\n",
      " 0 0 0 3 1 0 1 2 2 0 2 2 1 2 2 2 0 2 0 2 3 0 2 2 0 2 0 0 0 0 2 2 2 0 0 2 0\n",
      " 1 0 0 2 0 0 1 0 0 2 0 2 1 0 2 1 1 2 2 1 0 2 2 1 2 2 0 2 0 1 0 2 2 2 2 3 0\n",
      " 1 2 2 2 0 0 0 1 2 0 2 2 2 1 2 2 0 0 2 1 0 0 2 2 0 0 0 0 2 2 2 0 1 0 0 2 2\n",
      " 0 2 2 2 3 2 0 2 2 2 1 2 1 0 0 1 2 2 0 2 2 2 1 2 1 0 2 2 0 0 0 2 0 2]\n",
      "[[-0.03037739 -0.00622815]\n",
      " [ 0.03119273  0.00766506]\n",
      " [ 0.00306939 -0.0063074 ]\n",
      " [-0.04637164  0.07110726]]\n"
     ]
    },
    {
     "name": "stderr",
     "output_type": "stream",
     "text": [
      "/Users/ciarasikking/opt/anaconda3/lib/python3.8/site-packages/sklearn/cluster/_kmeans.py:1416: FutureWarning: The default value of `n_init` will change from 10 to 'auto' in 1.4. Set the value of `n_init` explicitly to suppress the warning\n",
      "  super()._check_params_vs_input(X, default_n_init=10)\n"
     ]
    }
   ],
   "source": [
    "from sklearn.cluster import KMeans\n",
    "\n",
    "num_clusters = 4\n",
    "kmeans_rand = KMeans(n_clusters= num_clusters, init = 'random')\n",
    "kmeans_rand.fit(all_norm_edge_pca)\n",
    "\n",
    "# Get cluster labels\n",
    "cluster_labels_rand = kmeans_rand.labels_\n",
    "print(cluster_labels_rand)\n",
    "\n",
    "# Get cluster centers\n",
    "cluster_centers_rand = kmeans_rand.cluster_centers_\n",
    "print(cluster_centers_rand)"
   ]
  },
  {
   "cell_type": "markdown",
   "id": "b53d753a",
   "metadata": {},
   "source": [
    "K means with init = k-means++"
   ]
  },
  {
   "cell_type": "code",
   "execution_count": 97,
   "id": "e021a345",
   "metadata": {},
   "outputs": [
    {
     "name": "stdout",
     "output_type": "stream",
     "text": [
      "[0 0 2 2 0 1 2 2 0 0 1 1 1 0 0 0 1 0 2 0 1 0 0 0 0 1 0 2 2 2 0 2 0 0 1 2 2\n",
      " 0 0 2 0 0 1 1 2 1 1 2 2 0 1 0 3 2 1 0 2 2 1 2 1 1 1 1 0 0 0 2 2 2 0 2 0 0\n",
      " 0 0 0 0 2 2 0 0 0 0 2 0 1 0 2 2 1 2 2 0 0 1 1 1 0 2 1 0 2 0 0 2 2 1 2 1 2\n",
      " 2 0 2 1 1 2 2 0 1 1 2 0 0 1 2 2 0 0 0 1 0 0 2 1 2 2 2 2 1 0 0 2 2 2 0 1 0\n",
      " 2 1 0 1 2 0 0 0 1 0 2 1 0 2 1 2 0 0 2 1 0 0 0 1 1 0 0 2 2 0 3 0 2 1 0 1 0\n",
      " 0 1 2 2 0 1 0 0 2 0 2 0 2 1 0 0 3 3 0 0 0 1 0 1 0 2 0 0 2 2 2 0 2 1 2 0 1\n",
      " 1 0 2 1 0 1 2 0 2 2 0 0 2 0 1 2 2 0 0 1 0 2 2 2 0 2 0 0 0 1 2 2 2 2 2 2 1\n",
      " 2 2 0 0 2 0 2 0 0 2 2 0 2 1 1 0 2 2 1 0 0 0 2 0 1 2 2 0 0 2 2 2 0 2 0 1 3\n",
      " 2 2 0 0 1 2 1 0 0 2 1 2 0 1 2 0 0 0 1 0 2 2 0 0 2 2 2 0 2 2 0 2 2 0 2 2 2\n",
      " 1 2 0 0 0 0 0 2 2 2 0 1 2 0 1 2 0 0 2 0 2 2 0 0 2 1 2 2 2 3 2 0 0 0 2 1 2\n",
      " 0 0 2 2 0 2 1 1 0 0 1 0 2 0 1 0 0 0 0 0 2 2 2 3 1 0 1 1 0 1 0 0 1 1 0 0 1\n",
      " 1 1 1 0 1 1 1 3 1 1 1 0 0 1 0 2 0 1 2 1 1 1 0 0 0 0 1 0 2 1 2 1 0 2 0 0 0\n",
      " 1 0 1 3 0 2 0 2 1 0 1 1 0 0 3 1 2 3 1 2 0 2 2 0 1 1 0 1 0 0 1 1 2 2 1 0 2\n",
      " 0 1 2 1 0 1 0 2 0 0 2 0 0 0 0 3 2 0 1 3 0 0 2 2 1 0 0 0 1 2 1 2 0 0 0 0 2\n",
      " 2 3 0 1 1 0 2 0 0 1 1 2 0 0 3 2 1 1 0 3 0 1 2 1 0 0 1 1 1 1 1 0 1 1 1 1 1\n",
      " 1 1 1 3 2 1 2 0 0 1 0 0 2 0 0 0 1 0 1 0 3 1 0 0 1 0 1 1 1 1 0 0 0 1 1 0 1\n",
      " 2 1 1 0 1 1 2 1 1 0 1 0 2 1 0 2 2 0 0 2 1 0 0 2 0 0 1 0 1 2 1 0 0 0 0 3 1\n",
      " 2 0 0 0 1 1 1 2 0 1 0 0 0 2 0 0 1 1 0 2 1 1 0 0 1 1 1 1 0 0 0 1 2 1 1 0 0\n",
      " 1 0 0 0 3 0 1 0 0 0 2 0 2 1 1 2 0 0 1 0 0 0 2 0 2 1 0 0 1 1 1 0 1 0]\n",
      "[[ 0.00306939 -0.0063074 ]\n",
      " [-0.03045063 -0.00603648]\n",
      " [ 0.03104903  0.00790606]\n",
      " [-0.04894162  0.07393961]]\n"
     ]
    },
    {
     "name": "stderr",
     "output_type": "stream",
     "text": [
      "/Users/ciarasikking/opt/anaconda3/lib/python3.8/site-packages/sklearn/cluster/_kmeans.py:1416: FutureWarning: The default value of `n_init` will change from 10 to 'auto' in 1.4. Set the value of `n_init` explicitly to suppress the warning\n",
      "  super()._check_params_vs_input(X, default_n_init=10)\n"
     ]
    }
   ],
   "source": [
    "num_clusters = 4\n",
    "kmeans = KMeans(n_clusters= num_clusters, init = 'k-means++')\n",
    "kmeans.fit(all_norm_edge_pca)\n",
    "\n",
    "# Get cluster labels\n",
    "cluster_labels = kmeans.labels_\n",
    "print(cluster_labels)\n",
    "\n",
    "# Get cluster centers\n",
    "cluster_centers = kmeans.cluster_centers_\n",
    "print(cluster_centers)"
   ]
  },
  {
   "cell_type": "markdown",
   "id": "ec67694c",
   "metadata": {},
   "source": [
    "Bisecting k means"
   ]
  },
  {
   "cell_type": "code",
   "execution_count": 98,
   "id": "02a70d03",
   "metadata": {},
   "outputs": [
    {
     "name": "stdout",
     "output_type": "stream",
     "text": [
      "[0 0 0 0 0 3 0 0 0 0 3 1 1 0 3 3 1 0 0 0 3 3 0 0 3 1 3 0 0 0 0 0 0 0 1 0 0\n",
      " 3 3 0 0 3 3 3 0 3 1 0 0 0 3 0 1 0 3 0 0 0 3 0 3 1 1 3 0 0 3 0 0 0 0 0 3 0\n",
      " 0 3 0 0 0 0 0 3 0 3 0 0 3 3 0 0 3 0 0 0 3 3 1 3 0 0 1 0 0 0 0 0 0 3 0 1 0\n",
      " 0 0 0 3 3 0 0 0 1 3 0 0 0 3 0 0 0 0 0 1 0 0 0 1 0 0 0 0 3 0 3 0 0 0 0 3 0\n",
      " 0 3 0 3 0 0 0 0 3 0 0 3 3 0 3 0 0 0 0 3 0 0 0 3 3 0 0 0 0 0 2 0 0 3 0 3 3\n",
      " 0 1 0 0 0 3 3 0 0 3 0 3 0 1 0 3 1 1 0 0 0 1 0 1 0 0 3 3 0 0 0 0 0 3 0 0 3\n",
      " 3 3 0 3 0 1 0 0 0 0 0 0 0 3 1 0 0 0 0 1 0 0 0 0 0 0 0 0 3 1 0 0 0 0 0 0 3\n",
      " 0 0 0 0 0 3 0 0 0 0 0 0 0 1 1 0 0 0 3 0 0 0 0 0 1 0 0 0 0 0 0 0 3 0 3 1 2\n",
      " 0 0 0 3 3 0 3 3 0 0 1 0 0 3 0 0 0 3 1 3 0 0 3 0 0 0 0 0 0 0 0 0 0 3 0 0 0\n",
      " 3 0 0 3 3 3 3 0 0 0 0 1 0 3 3 0 0 0 0 0 0 0 0 0 0 1 0 0 0 2 0 0 3 0 0 1 0\n",
      " 0 0 0 0 0 0 3 1 0 0 3 0 0 0 1 3 3 0 3 3 0 0 0 1 1 0 3 3 3 1 0 3 3 3 3 0 1\n",
      " 1 1 1 0 1 3 1 2 3 3 1 3 3 3 0 0 3 1 0 1 1 1 0 0 3 3 3 3 0 3 0 3 3 0 0 3 0\n",
      " 3 3 1 2 0 0 3 0 3 3 3 3 0 3 2 1 0 2 1 0 0 0 0 0 3 1 0 1 3 0 3 3 0 0 3 0 0\n",
      " 0 1 0 1 3 3 0 0 0 0 0 0 0 0 0 2 0 3 3 1 0 0 0 0 3 0 0 3 1 0 3 0 3 0 3 3 0\n",
      " 0 2 0 1 3 3 0 3 3 1 3 0 3 0 2 0 3 1 3 2 0 1 0 1 0 3 1 1 1 1 1 0 1 1 1 1 1\n",
      " 3 1 3 2 0 1 0 0 3 1 0 0 0 0 0 0 1 3 3 3 2 1 0 3 3 0 3 1 3 3 0 3 0 1 1 0 1\n",
      " 0 1 1 3 1 3 0 1 3 3 1 3 0 3 3 0 0 0 0 0 1 0 0 0 3 3 1 0 1 0 3 0 0 0 3 1 1\n",
      " 0 0 3 0 1 3 1 0 3 3 3 0 0 0 0 3 3 1 3 0 3 3 0 3 1 1 3 1 3 0 0 1 0 3 3 3 0\n",
      " 1 3 3 0 1 3 3 0 3 3 0 3 0 1 3 0 0 3 3 3 0 0 0 0 0 3 0 0 1 3 1 0 1 0]\n",
      "[[ 0.02022324  0.00077419]\n",
      " [-0.03887102  0.00389939]\n",
      " [-0.05517467  0.09372335]\n",
      " [-0.01158177 -0.00840641]]\n"
     ]
    }
   ],
   "source": [
    "from sklearn.cluster import BisectingKMeans\n",
    "\n",
    "num_clusters = 4\n",
    "\n",
    "# Fit the model\n",
    "bisect_means = BisectingKMeans(n_clusters= num_clusters, init = 'random').fit(all_norm_edge_pca)\n",
    "\n",
    "print(bisect_means.labels_)\n",
    "print(bisect_means.cluster_centers_)"
   ]
  },
  {
   "cell_type": "markdown",
   "id": "509cb80e",
   "metadata": {},
   "source": [
    "Spectral clustering"
   ]
  },
  {
   "cell_type": "code",
   "execution_count": 99,
   "id": "ce974c06",
   "metadata": {},
   "outputs": [
    {
     "name": "stdout",
     "output_type": "stream",
     "text": [
      "[3 0 3 3 3 0 3 3 0 3 0 0 0 0 0 0 0 3 3 3 0 0 3 3 0 0 0 3 3 3 0 3 0 3 0 3 3\n",
      " 0 0 3 0 0 0 0 3 0 0 3 3 3 0 3 2 3 0 3 3 3 0 3 0 0 0 0 3 3 0 3 3 3 3 3 3 3\n",
      " 3 0 0 3 3 3 3 0 0 0 3 0 0 0 3 3 0 3 3 3 0 0 0 0 3 3 0 0 3 3 3 3 3 0 3 0 3\n",
      " 3 3 3 0 0 3 3 0 0 0 3 3 3 0 3 3 3 0 3 0 0 3 3 0 3 3 3 3 0 0 0 3 3 3 3 0 0\n",
      " 3 0 3 0 3 0 3 3 0 3 3 0 0 3 0 3 3 3 3 0 3 3 3 0 0 3 3 3 3 3 2 0 3 0 3 0 0\n",
      " 3 0 3 3 3 0 0 3 3 0 3 0 3 0 3 0 2 2 3 0 3 0 3 0 3 3 0 3 3 3 3 3 3 0 3 0 0\n",
      " 0 0 3 0 3 0 3 3 3 3 3 3 3 0 0 3 3 3 3 0 3 3 3 3 0 3 1 3 0 0 3 3 3 3 3 3 0\n",
      " 3 3 3 0 3 0 3 3 3 3 3 3 3 2 0 3 3 3 0 0 0 3 3 3 0 3 3 0 3 3 3 2 0 3 0 0 2\n",
      " 3 3 3 3 0 3 0 3 3 3 0 3 3 0 2 3 3 0 0 0 3 3 0 3 3 3 3 3 3 3 3 3 3 0 3 3 3\n",
      " 0 3 3 0 0 0 0 3 3 3 0 0 3 3 0 3 3 3 3 0 3 3 0 3 3 2 3 3 3 2 3 3 0 3 3 0 3\n",
      " 3 3 3 3 0 3 0 0 0 3 0 3 2 3 0 0 0 0 0 0 3 3 3 2 0 0 0 0 0 0 3 0 0 0 3 3 0\n",
      " 0 0 0 0 0 0 0 2 0 0 0 0 0 0 3 3 0 0 3 0 0 2 3 3 0 0 0 0 3 0 3 0 3 3 3 0 3\n",
      " 0 0 0 2 3 3 0 3 0 0 0 0 3 0 2 0 3 2 0 3 0 3 3 3 0 0 3 0 3 0 0 0 3 3 0 0 3\n",
      " 0 0 3 0 0 0 0 3 3 3 2 3 3 3 3 2 3 0 0 2 3 0 3 3 0 3 3 0 2 3 0 3 0 3 0 0 3\n",
      " 3 2 3 0 0 0 3 0 0 0 0 3 0 3 2 3 0 0 0 2 3 0 3 0 3 0 0 0 0 0 0 3 0 0 0 2 0\n",
      " 0 0 0 2 3 0 3 0 0 0 3 3 3 3 3 3 0 0 0 0 2 0 3 0 0 3 0 0 0 0 3 0 0 0 0 3 0\n",
      " 3 0 0 0 0 0 3 0 0 0 0 3 3 0 0 3 3 3 3 3 0 3 3 3 0 0 0 0 0 2 0 3 3 3 0 2 0\n",
      " 3 0 0 3 0 0 0 3 0 0 0 3 0 3 3 0 0 0 0 3 0 0 0 0 0 0 0 0 0 3 0 0 3 0 0 0 3\n",
      " 0 0 0 3 2 0 0 3 0 0 3 0 3 0 0 3 3 0 0 0 3 3 3 3 3 0 3 3 0 0 0 3 0 0]\n",
      "[[ 0.00306939 -0.0063074 ]\n",
      " [-0.03045063 -0.00603648]\n",
      " [ 0.03104903  0.00790606]\n",
      " [-0.04894162  0.07393961]]\n"
     ]
    }
   ],
   "source": [
    "from sklearn.cluster import SpectralClustering\n",
    "\n",
    "num_clusters = 4\n",
    "clustering = SpectralClustering(n_clusters= num_clusters).fit(all_norm_edge_pca)\n",
    "\n",
    "labels = clustering.labels_\n",
    "print(labels)\n",
    "\n",
    "cluster_centers = np.zeros((num_clusters, all_norm_edge_pca.shape[1]))\n",
    "\n",
    "for i in range(num_clusters):\n",
    "    cluster_points = all_norm_edge_pca[cluster_labels == i]\n",
    "    cluster_center = np.mean(cluster_points, axis=0)\n",
    "    cluster_centers[i] = cluster_center\n",
    "    \n",
    "print(cluster_centers)"
   ]
  },
  {
   "cell_type": "markdown",
   "id": "cd07e78b",
   "metadata": {},
   "source": [
    "DBSCAN"
   ]
  },
  {
   "cell_type": "code",
   "execution_count": 100,
   "id": "08247558",
   "metadata": {},
   "outputs": [
    {
     "name": "stdout",
     "output_type": "stream",
     "text": [
      "Found parameters for 4 clusters: eps=0.1, min_samples=15\n",
      "Best parameters: eps=0.1, min_samples=10\n"
     ]
    }
   ],
   "source": [
    "from sklearn.cluster import DBSCAN\n",
    "from sklearn.preprocessing import StandardScaler\n",
    "\n",
    "X = StandardScaler().fit_transform(all_norm_edge_pca)\n",
    "\n",
    "# Define parameter ranges\n",
    "eps_range = [0.1, 0.5, 1.0, 1.5]  # Adjust based on the scale of your data\n",
    "min_samples_range = [5, 10, 15, 20]\n",
    "\n",
    "best_n_clusters = float('inf')\n",
    "best_eps = None\n",
    "best_min_samples = None\n",
    "\n",
    "# Perform grid search\n",
    "for eps in eps_range:\n",
    "    for min_samples in min_samples_range:\n",
    "        db = DBSCAN(eps=eps, min_samples=min_samples).fit(X)\n",
    "        labels = db.labels_\n",
    "        n_clusters = len(set(labels)) - (1 if -1 in labels else 0)\n",
    "        \n",
    "        if n_clusters == 4:  # Desired number of clusters\n",
    "            print(\"Found parameters for 4 clusters: eps={}, min_samples={}\".format(eps, min_samples))\n",
    "            break  # Exit loop if desired number of clusters is found\n",
    "        \n",
    "        if abs(4 - n_clusters) < abs(4 - best_n_clusters):\n",
    "            best_n_clusters = n_clusters\n",
    "            best_eps = eps\n",
    "            best_min_samples = min_samples\n",
    "\n",
    "print(\"Best parameters: eps={}, min_samples={}\".format(best_eps, best_min_samples))"
   ]
  },
  {
   "cell_type": "code",
   "execution_count": 101,
   "id": "a877862d",
   "metadata": {},
   "outputs": [
    {
     "name": "stdout",
     "output_type": "stream",
     "text": [
      "Estimated number of clusters: 4\n",
      "Estimated number of noise points: 592\n"
     ]
    }
   ],
   "source": [
    "from sklearn import metrics\n",
    "from sklearn.cluster import DBSCAN\n",
    "from sklearn.preprocessing import StandardScaler\n",
    "\n",
    "X = StandardScaler().fit_transform(all_norm_edge_pca)\n",
    "\n",
    "db = DBSCAN(eps=0.1, min_samples=15).fit(X)\n",
    "labels = db.labels_\n",
    "\n",
    "# Number of clusters in labels, ignoring noise if present.\n",
    "n_clusters_ = len(set(labels)) - (1 if -1 in labels else 0)\n",
    "n_noise_ = list(labels).count(-1)\n",
    "\n",
    "print(\"Estimated number of clusters: %d\" % n_clusters_)\n",
    "print(\"Estimated number of noise points: %d\" % n_noise_)"
   ]
  },
  {
   "cell_type": "markdown",
   "id": "c3084281",
   "metadata": {},
   "source": [
    "To achieve 4 clusters I used eps = 0.1 and min_samples = 15"
   ]
  },
  {
   "cell_type": "markdown",
   "id": "19311198",
   "metadata": {},
   "source": [
    "Agglomerative Clustering - Single Link"
   ]
  },
  {
   "cell_type": "code",
   "execution_count": 102,
   "id": "b5dd298e",
   "metadata": {},
   "outputs": [
    {
     "name": "stdout",
     "output_type": "stream",
     "text": [
      "Number of points in cluster 0: 697\n",
      "Number of points in cluster 1: 1\n",
      "Number of points in cluster 2: 1\n",
      "Number of points in cluster 3: 1\n"
     ]
    }
   ],
   "source": [
    "from sklearn.cluster import AgglomerativeClustering\n",
    "\n",
    "num_clusters = 4\n",
    "agg_clustering = AgglomerativeClustering(n_clusters=num_clusters, linkage='single')\n",
    "\n",
    "agg_clustering.fit(all_norm_edge_pca)\n",
    "\n",
    "# Get cluster labels\n",
    "cluster_labels_single = agg_clustering.labels_\n",
    "\n",
    "# Print the number of points in each cluster\n",
    "for i in range(num_clusters):\n",
    "    print(\"Number of points in cluster {}: {}\".format(i, np.sum(cluster_labels_single == i)))"
   ]
  },
  {
   "cell_type": "markdown",
   "id": "7273fe57",
   "metadata": {},
   "source": [
    "Agglomerative Clustering - Complete Link"
   ]
  },
  {
   "cell_type": "code",
   "execution_count": 103,
   "id": "0db0d46d",
   "metadata": {},
   "outputs": [
    {
     "name": "stdout",
     "output_type": "stream",
     "text": [
      "Number of points in cluster 0: 281\n",
      "Number of points in cluster 1: 408\n",
      "Number of points in cluster 2: 9\n",
      "Number of points in cluster 3: 2\n"
     ]
    }
   ],
   "source": [
    "num_clusters = 4\n",
    "agg_clustering = AgglomerativeClustering(n_clusters=num_clusters, linkage='complete')\n",
    "\n",
    "agg_clustering.fit(all_norm_edge_pca)\n",
    "\n",
    "# Get cluster labels\n",
    "cluster_labels_complete = agg_clustering.labels_\n",
    "\n",
    "# Print the number of points in each cluster\n",
    "for i in range(num_clusters):\n",
    "    print(\"Number of points in cluster {}: {}\".format(i, np.sum(cluster_labels_complete == i)))"
   ]
  },
  {
   "cell_type": "markdown",
   "id": "94d8143d",
   "metadata": {},
   "source": [
    "Agglomerative Clustering - Group Average"
   ]
  },
  {
   "cell_type": "code",
   "execution_count": 104,
   "id": "d6252920",
   "metadata": {},
   "outputs": [
    {
     "name": "stdout",
     "output_type": "stream",
     "text": [
      "Number of points in cluster 0: 671\n",
      "Number of points in cluster 1: 2\n",
      "Number of points in cluster 2: 20\n",
      "Number of points in cluster 3: 7\n"
     ]
    }
   ],
   "source": [
    "num_clusters = 4\n",
    "agg_clustering = AgglomerativeClustering(n_clusters=num_clusters, linkage='average')\n",
    "\n",
    "agg_clustering.fit(all_norm_edge_pca)\n",
    "\n",
    "# Get cluster labels\n",
    "cluster_labels_avg = agg_clustering.labels_\n",
    "\n",
    "# Print the number of points in each cluster\n",
    "for i in range(num_clusters):\n",
    "    print(\"Number of points in cluster {}: {}\".format(i, np.sum(cluster_labels_avg == i)))"
   ]
  },
  {
   "cell_type": "markdown",
   "id": "5d5adffc",
   "metadata": {},
   "source": [
    "Agglomerative Clustering - Ward's Method"
   ]
  },
  {
   "cell_type": "code",
   "execution_count": 105,
   "id": "6dd1f6c2",
   "metadata": {},
   "outputs": [
    {
     "name": "stdout",
     "output_type": "stream",
     "text": [
      "Number of points in cluster 0: 246\n",
      "Number of points in cluster 1: 238\n",
      "Number of points in cluster 2: 9\n",
      "Number of points in cluster 3: 207\n"
     ]
    }
   ],
   "source": [
    "num_clusters = 4\n",
    "agg_clustering = AgglomerativeClustering(n_clusters=num_clusters, linkage='ward')\n",
    "\n",
    "agg_clustering.fit(all_norm_edge_pca)\n",
    "\n",
    "# Get cluster labels\n",
    "cluster_labels_wards = agg_clustering.labels_\n",
    "\n",
    "# Print the number of points in each cluster\n",
    "for i in range(num_clusters):\n",
    "    print(\"Number of points in cluster {}: {}\".format(i, np.sum(cluster_labels_wards == i)))"
   ]
  },
  {
   "cell_type": "markdown",
   "id": "1a72d0e2",
   "metadata": {},
   "source": [
    "Clustering Evaluations"
   ]
  },
  {
   "cell_type": "markdown",
   "id": "4f3f8fbc",
   "metadata": {},
   "source": [
    "Fowlkes-Mallows index "
   ]
  },
  {
   "cell_type": "code",
   "execution_count": 106,
   "id": "3bdef4a9",
   "metadata": {},
   "outputs": [
    {
     "name": "stdout",
     "output_type": "stream",
     "text": [
      "Fowlkes-Mallows index Single Link: 0.5005019443740246\n",
      "Fowlkes-Mallows index Complete Link: 0.3786433253010729\n",
      "Fowlkes-Mallows index Average Link: 0.4835254758944769\n",
      "Fowlkes-Mallows index Wards Link: 0.3080357679184214\n"
     ]
    }
   ],
   "source": [
    "from sklearn.metrics import fowlkes_mallows_score\n",
    "\n",
    "# Calculate the Fowlkes-Mallows index for single link agglomerative clustering \n",
    "fowlkes_mallows_index_single = fowlkes_mallows_score(true_labels, cluster_labels_single)\n",
    "\n",
    "# Print the Fowlkes-Mallows index\n",
    "print(\"Fowlkes-Mallows index Single Link:\", fowlkes_mallows_index_single)\n",
    "\n",
    "\n",
    "\n",
    "# Calculate the Fowlkes-Mallows index for complete link agglomerative clustering \n",
    "fowlkes_mallows_index_complete = fowlkes_mallows_score(true_labels, cluster_labels_complete)\n",
    "\n",
    "# Print the Fowlkes-Mallows index\n",
    "print(\"Fowlkes-Mallows index Complete Link:\", fowlkes_mallows_index_complete)\n",
    "\n",
    "\n",
    "\n",
    "# Calculate the Fowlkes-Mallows index for average link agglomerative clustering \n",
    "fowlkes_mallows_index_avg = fowlkes_mallows_score(true_labels, cluster_labels_avg)\n",
    "\n",
    "# Print the Fowlkes-Mallows index\n",
    "print(\"Fowlkes-Mallows index Average Link:\", fowlkes_mallows_index_avg)\n",
    "\n",
    "\n",
    "\n",
    "# Calculate the Fowlkes-Mallows index for single link agglomerative clustering \n",
    "fowlkes_mallows_index_wards = fowlkes_mallows_score(true_labels, cluster_labels_wards)\n",
    "\n",
    "# Print the Fowlkes-Mallows index\n",
    "print(\"Fowlkes-Mallows index Wards Link:\", fowlkes_mallows_index_wards)\n"
   ]
  },
  {
   "cell_type": "markdown",
   "id": "71c6e578",
   "metadata": {},
   "source": [
    "Silhouette Coefficient "
   ]
  },
  {
   "cell_type": "code",
   "execution_count": 107,
   "id": "15315ca0",
   "metadata": {},
   "outputs": [
    {
     "name": "stdout",
     "output_type": "stream",
     "text": [
      "Silhouette coefficient Single Link: 0.5355923755981296\n",
      "Silhouette coefficient Complete Link: 0.43917422942351925\n",
      "Silhouette coefficient Average Link: 0.46717707700080335\n",
      "Silhouette coefficient Wards Link: 0.3152322283874674\n"
     ]
    }
   ],
   "source": [
    "from sklearn.metrics import silhouette_score\n",
    "\n",
    "# Calculate the silhouette score for single link agglomerative clustering \n",
    "silhouette_coefficient_single = silhouette_score(all_norm_edge_pca, cluster_labels_single)\n",
    "\n",
    "# Print the silhouette score\n",
    "print(\"Silhouette coefficient Single Link:\", silhouette_coefficient_single)\n",
    "\n",
    "\n",
    "# Calculate the silhouette score for complete link agglomerative clustering \n",
    "silhouette_coefficient_complete = silhouette_score(all_norm_edge_pca, cluster_labels_complete)\n",
    "\n",
    "# Print the silhouette score\n",
    "print(\"Silhouette coefficient Complete Link:\", silhouette_coefficient_complete)\n",
    "\n",
    "\n",
    "# Calculate the silhouette score for average link agglomerative clustering \n",
    "silhouette_coefficient_avg = silhouette_score(all_norm_edge_pca, cluster_labels_avg)\n",
    "\n",
    "# Print the silhouette score\n",
    "print(\"Silhouette coefficient Average Link:\", silhouette_coefficient_avg)\n",
    "\n",
    "\n",
    "# Calculate the silhouette score for wards link agglomerative clustering \n",
    "silhouette_coefficient_wards = silhouette_score(all_norm_edge_pca, cluster_labels_wards)\n",
    "\n",
    "# Print the silhouette score\n",
    "print(\"Silhouette coefficient Wards Link:\", silhouette_coefficient_wards)"
   ]
  },
  {
   "cell_type": "markdown",
   "id": "d755e6c8",
   "metadata": {},
   "source": [
    "Ranking of methods based on Fowlkes-Mallows Index: 1. Single 2. Average 3. Complete 4. Wards"
   ]
  },
  {
   "cell_type": "markdown",
   "id": "cad82561",
   "metadata": {},
   "source": [
    "Ranking of methods based on Silhouette Coefficient: 1. Single 2. Average 3. Complete 4. Wards"
   ]
  },
  {
   "cell_type": "code",
   "execution_count": null,
   "id": "c3c79f9c",
   "metadata": {},
   "outputs": [],
   "source": []
  },
  {
   "cell_type": "code",
   "execution_count": null,
   "id": "c6e593b5",
   "metadata": {},
   "outputs": [],
   "source": []
  }
 ],
 "metadata": {
  "kernelspec": {
   "display_name": "Python 3",
   "language": "python",
   "name": "python3"
  },
  "language_info": {
   "codemirror_mode": {
    "name": "ipython",
    "version": 3
   },
   "file_extension": ".py",
   "mimetype": "text/x-python",
   "name": "python",
   "nbconvert_exporter": "python",
   "pygments_lexer": "ipython3",
   "version": "3.8.8"
  }
 },
 "nbformat": 4,
 "nbformat_minor": 5
}
